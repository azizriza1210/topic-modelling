{
 "cells": [
  {
   "cell_type": "code",
   "execution_count": 10,
   "metadata": {},
   "outputs": [],
   "source": [
    "import pandas as pd\n",
    "import glob"
   ]
  },
  {
   "cell_type": "code",
   "execution_count": 11,
   "metadata": {},
   "outputs": [],
   "source": [
    "# Tentukan path ke folder dataset\n",
    "folder_path = 'Dataset/'\n",
    "\n",
    "# Buat pola untuk mencocokkan file CSV di dalam folder\n",
    "file_pattern = '*.csv'\n",
    "\n",
    "# Gunakan modul glob untuk mendapatkan daftar file yang sesuai dengan pola\n",
    "file_list = glob.glob(folder_path + file_pattern)\n",
    "\n",
    "# Buat list kosong untuk menyimpan DataFrame dari setiap file CSV\n",
    "dfs = []\n",
    "\n",
    "# Loop melalui setiap file dan baca sebagai DataFrame, lalu tambahkan ke list\n",
    "for file in file_list:\n",
    "    df = pd.read_csv(file, sep=\";\")\n",
    "    dfs.append(df)\n",
    "\n",
    "# Gabungkan semua DataFrame menjadi satu\n",
    "merged_df = pd.concat(dfs, ignore_index=True)"
   ]
  },
  {
   "cell_type": "code",
   "execution_count": 12,
   "metadata": {},
   "outputs": [
    {
     "data": {
      "text/html": [
       "<div>\n",
       "<style scoped>\n",
       "    .dataframe tbody tr th:only-of-type {\n",
       "        vertical-align: middle;\n",
       "    }\n",
       "\n",
       "    .dataframe tbody tr th {\n",
       "        vertical-align: top;\n",
       "    }\n",
       "\n",
       "    .dataframe thead th {\n",
       "        text-align: right;\n",
       "    }\n",
       "</style>\n",
       "<table border=\"1\" class=\"dataframe\">\n",
       "  <thead>\n",
       "    <tr style=\"text-align: right;\">\n",
       "      <th></th>\n",
       "      <th>created_at</th>\n",
       "      <th>id_str</th>\n",
       "      <th>full_text</th>\n",
       "      <th>quote_count</th>\n",
       "      <th>reply_count</th>\n",
       "      <th>retweet_count</th>\n",
       "      <th>favorite_count</th>\n",
       "      <th>lang</th>\n",
       "      <th>user_id_str</th>\n",
       "      <th>conversation_id_str</th>\n",
       "      <th>username</th>\n",
       "      <th>tweet_url</th>\n",
       "    </tr>\n",
       "  </thead>\n",
       "  <tbody>\n",
       "    <tr>\n",
       "      <th>0</th>\n",
       "      <td>Fri Oct 20 23:59:50 +0000 2023</td>\n",
       "      <td>1715518217446420971</td>\n",
       "      <td>Buka Suara, Presiden RI Jokowi Mengecam Keras ...</td>\n",
       "      <td>0</td>\n",
       "      <td>0</td>\n",
       "      <td>0</td>\n",
       "      <td>1</td>\n",
       "      <td>in</td>\n",
       "      <td>1695702905268178944</td>\n",
       "      <td>1715518217446420971</td>\n",
       "      <td>summerrain_d</td>\n",
       "      <td>https://twitter.com/summerrain_d/status/171551...</td>\n",
       "    </tr>\n",
       "    <tr>\n",
       "      <th>1</th>\n",
       "      <td>Fri Oct 20 23:59:40 +0000 2023</td>\n",
       "      <td>1715518176870744332</td>\n",
       "      <td>Kini Palestina memanggil berikanlah Mereka kek...</td>\n",
       "      <td>0</td>\n",
       "      <td>0</td>\n",
       "      <td>0</td>\n",
       "      <td>1</td>\n",
       "      <td>in</td>\n",
       "      <td>779355956069085184</td>\n",
       "      <td>1715518176870744332</td>\n",
       "      <td>riatul_HN</td>\n",
       "      <td>https://twitter.com/riatul_HN/status/171551817...</td>\n",
       "    </tr>\n",
       "    <tr>\n",
       "      <th>2</th>\n",
       "      <td>Fri Oct 20 23:59:18 +0000 2023</td>\n",
       "      <td>1715518081408151615</td>\n",
       "      <td>kalau perang Palestina mereka manfaat cari uan...</td>\n",
       "      <td>0</td>\n",
       "      <td>0</td>\n",
       "      <td>0</td>\n",
       "      <td>0</td>\n",
       "      <td>in</td>\n",
       "      <td>1300513006455910400</td>\n",
       "      <td>1715518081408151615</td>\n",
       "      <td>Rani34079287</td>\n",
       "      <td>https://twitter.com/Rani34079287/status/171551...</td>\n",
       "    </tr>\n",
       "    <tr>\n",
       "      <th>3</th>\n",
       "      <td>Fri Oct 20 23:59:17 +0000 2023</td>\n",
       "      <td>1715518079885807813</td>\n",
       "      <td>@Marie18909292 @DeHoutman_id Lu samperin aj ke...</td>\n",
       "      <td>0</td>\n",
       "      <td>2</td>\n",
       "      <td>0</td>\n",
       "      <td>0</td>\n",
       "      <td>in</td>\n",
       "      <td>50633077</td>\n",
       "      <td>1715325471670653407</td>\n",
       "      <td>muthijairoi</td>\n",
       "      <td>https://twitter.com/muthijairoi/status/1715518...</td>\n",
       "    </tr>\n",
       "    <tr>\n",
       "      <th>4</th>\n",
       "      <td>Fri Oct 20 23:59:02 +0000 2023</td>\n",
       "      <td>1715518014467268645</td>\n",
       "      <td>@Hilmi28 Hamas tidak mewakili rakyat palestina...</td>\n",
       "      <td>0</td>\n",
       "      <td>0</td>\n",
       "      <td>0</td>\n",
       "      <td>0</td>\n",
       "      <td>in</td>\n",
       "      <td>1658871216852303876</td>\n",
       "      <td>1715365067867504759</td>\n",
       "      <td>tjahjadoel90</td>\n",
       "      <td>https://twitter.com/tjahjadoel90/status/171551...</td>\n",
       "    </tr>\n",
       "  </tbody>\n",
       "</table>\n",
       "</div>"
      ],
      "text/plain": [
       "                       created_at               id_str  \\\n",
       "0  Fri Oct 20 23:59:50 +0000 2023  1715518217446420971   \n",
       "1  Fri Oct 20 23:59:40 +0000 2023  1715518176870744332   \n",
       "2  Fri Oct 20 23:59:18 +0000 2023  1715518081408151615   \n",
       "3  Fri Oct 20 23:59:17 +0000 2023  1715518079885807813   \n",
       "4  Fri Oct 20 23:59:02 +0000 2023  1715518014467268645   \n",
       "\n",
       "                                           full_text  quote_count  \\\n",
       "0  Buka Suara, Presiden RI Jokowi Mengecam Keras ...            0   \n",
       "1  Kini Palestina memanggil berikanlah Mereka kek...            0   \n",
       "2  kalau perang Palestina mereka manfaat cari uan...            0   \n",
       "3  @Marie18909292 @DeHoutman_id Lu samperin aj ke...            0   \n",
       "4  @Hilmi28 Hamas tidak mewakili rakyat palestina...            0   \n",
       "\n",
       "   reply_count  retweet_count  favorite_count lang          user_id_str  \\\n",
       "0            0              0               1   in  1695702905268178944   \n",
       "1            0              0               1   in   779355956069085184   \n",
       "2            0              0               0   in  1300513006455910400   \n",
       "3            2              0               0   in             50633077   \n",
       "4            0              0               0   in  1658871216852303876   \n",
       "\n",
       "   conversation_id_str      username  \\\n",
       "0  1715518217446420971  summerrain_d   \n",
       "1  1715518176870744332     riatul_HN   \n",
       "2  1715518081408151615  Rani34079287   \n",
       "3  1715325471670653407   muthijairoi   \n",
       "4  1715365067867504759  tjahjadoel90   \n",
       "\n",
       "                                           tweet_url  \n",
       "0  https://twitter.com/summerrain_d/status/171551...  \n",
       "1  https://twitter.com/riatul_HN/status/171551817...  \n",
       "2  https://twitter.com/Rani34079287/status/171551...  \n",
       "3  https://twitter.com/muthijairoi/status/1715518...  \n",
       "4  https://twitter.com/tjahjadoel90/status/171551...  "
      ]
     },
     "execution_count": 12,
     "metadata": {},
     "output_type": "execute_result"
    }
   ],
   "source": [
    "merged_df.head()"
   ]
  },
  {
   "cell_type": "markdown",
   "metadata": {},
   "source": [
    "<h3><b>Preprocessing"
   ]
  },
  {
   "cell_type": "code",
   "execution_count": 13,
   "metadata": {},
   "outputs": [],
   "source": [
    "import gensim\n",
    "import gensim.corpora as corpora\n",
    "from gensim.utils import simple_preprocess\n",
    "from gensim.models import CoherenceModel"
   ]
  },
  {
   "cell_type": "code",
   "execution_count": 15,
   "metadata": {},
   "outputs": [],
   "source": [
    "merged_df['full_text'] = merged_df['full_text'].astype('str')\n",
    "merged_df['full_text'] = merged_df['full_text'].str.lower()\n",
    "\n",
    "merged_df['full_text'] = merged_df['full_text'].str.replace('[^\\w\\s]', '')\n",
    "merged_df['full_text'] = merged_df['full_text'].str.replace('\\s+', ' ')"
   ]
  },
  {
   "cell_type": "code",
   "execution_count": null,
   "metadata": {},
   "outputs": [],
   "source": [
    "def remove_stop_words(documents) :\n",
    "    stop_words = set(stopwords.words('english'))"
   ]
  }
 ],
 "metadata": {
  "kernelspec": {
   "display_name": "Python 3",
   "language": "python",
   "name": "python3"
  },
  "language_info": {
   "codemirror_mode": {
    "name": "ipython",
    "version": 3
   },
   "file_extension": ".py",
   "mimetype": "text/x-python",
   "name": "python",
   "nbconvert_exporter": "python",
   "pygments_lexer": "ipython3",
   "version": "3.10.9"
  },
  "vscode": {
   "interpreter": {
    "hash": "26de051ba29f2982a8de78e945f0abaf191376122a1563185a90213a26c5da77"
   }
  }
 },
 "nbformat": 4,
 "nbformat_minor": 2
}
